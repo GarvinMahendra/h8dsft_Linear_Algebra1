{
  "nbformat": 4,
  "nbformat_minor": 0,
  "metadata": {
    "colab": {
      "provenance": []
    },
    "kernelspec": {
      "name": "python3",
      "display_name": "Python 3"
    },
    "language_info": {
      "name": "python"
    }
  },
  "cells": [
    {
      "cell_type": "markdown",
      "source": [
        "#Non Graded Challenge 4\n",
        "\n",
        "Nama Garvin student hacktiv8 batch RMT-20"
      ],
      "metadata": {
        "id": "-JeOhxZXxVQF"
      }
    },
    {
      "cell_type": "code",
      "execution_count": 2,
      "metadata": {
        "id": "Ps_50lAkw1gX"
      },
      "outputs": [],
      "source": [
        "import numpy as np"
      ]
    },
    {
      "cell_type": "code",
      "source": [
        "a = ([1,2,3])\n",
        "a = np.array(a)\n",
        "print(a)"
      ],
      "metadata": {
        "colab": {
          "base_uri": "https://localhost:8080/"
        },
        "id": "IrRwPrO8yELQ",
        "outputId": "79b2522a-e43f-4e43-fc62-a36ae6e20fb0"
      },
      "execution_count": 4,
      "outputs": [
        {
          "output_type": "stream",
          "name": "stdout",
          "text": [
            "[1 2 3]\n"
          ]
        }
      ]
    },
    {
      "cell_type": "code",
      "source": [
        "A = [17,22,19]\n",
        "B = [10,20,11]\n",
        "C = [5,12,9]\n",
        "\n",
        "A = np.array(A)\n",
        "B = np.array(B)\n",
        "C = np.array(C)\n",
        "\n",
        "print(A, B, C)"
      ],
      "metadata": {
        "colab": {
          "base_uri": "https://localhost:8080/"
        },
        "id": "aaWoiRStyRRn",
        "outputId": "2f7bffe8-582d-4880-913a-bf9674b69216"
      },
      "execution_count": 5,
      "outputs": [
        {
          "output_type": "stream",
          "name": "stdout",
          "text": [
            "[17 22 19] [10 20 11] [ 5 12  9]\n"
          ]
        }
      ]
    },
    {
      "cell_type": "markdown",
      "source": [
        "Hitunglah:\n",
        "\n",
        "1. A+B\n",
        "2. B-C\n",
        "3. A dot C\n",
        "4. A x B\n",
        "5. norm A\n",
        "6. Sudut antara vektor A dan B\n",
        "7. Buatlah plot dari vector berikut ini kedalam bidang 2D:\n",
        "\n",
        "    U = [2,5]\n",
        "\n",
        "    V = [3,1]\n",
        "\n",
        "### Jawab"
      ],
      "metadata": {
        "id": "piMN-0ze1eOC"
      }
    },
    {
      "cell_type": "code",
      "source": [
        "from numpy.core.multiarray import dot\n",
        "# 1.\n",
        "hasil1 = A + B\n",
        "print('1. ', hasil1)\n",
        "\n",
        "# 2.\n",
        "hasil2 = B - C\n",
        "print('2. ', hasil2)\n",
        "\n",
        "# 3.\n",
        "hasil3 = np.dot(A,C)\n",
        "print('3. ', hasil3)\n",
        "\n",
        "# 4.\n",
        "hasil4 = A * B\n",
        "print('4. ', hasil4)\n",
        "\n",
        "# 5.\n",
        "hasil5 = np.linalg.norm(A)\n",
        "print('5. norm A = ', hasil5)\n",
        "\n",
        "# 6.\n",
        "hasil6 = np.arccos(np.dot(A, B) / (np.linalg.norm(A) * np.linalg.norm(B)))\n",
        "sudut6 = np.degrees(hasil6)\n",
        "print('6. ', hasil6, ', sudut = ', sudut6)"
      ],
      "metadata": {
        "colab": {
          "base_uri": "https://localhost:8080/"
        },
        "id": "EYJf0zVg1Y08",
        "outputId": "155fcbbb-7310-46b0-bd78-62dfde843967"
      },
      "execution_count": 20,
      "outputs": [
        {
          "output_type": "stream",
          "name": "stdout",
          "text": [
            "1.  [27 42 30]\n",
            "2.  [5 8 2]\n",
            "3.  520\n",
            "4.  [170 440 209]\n",
            "5. norm A =  33.67491648096547\n",
            "6.  0.21971776576153962 , sudut =  12.588900662180242\n"
          ]
        }
      ]
    },
    {
      "cell_type": "code",
      "source": [
        "U = [2,5]\n",
        "V = [3,1]\n",
        "\n",
        "U = np.array(U)\n",
        "V = np.array(V)"
      ],
      "metadata": {
        "id": "DzB1cSjPy4E5"
      },
      "execution_count": 21,
      "outputs": []
    }
  ]
}